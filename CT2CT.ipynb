{
  "nbformat": 4,
  "nbformat_minor": 0,
  "metadata": {
    "colab": {
      "name": "CT2CT.ipynb",
      "version": "0.3.2",
      "provenance": [],
      "collapsed_sections": [],
      "machine_shape": "hm"
    },
    "kernelspec": {
      "name": "python3",
      "display_name": "Python 3"
    },
    "accelerator": "GPU"
  },
  "cells": [
    {
      "cell_type": "code",
      "metadata": {
        "id": "Uz-rJg6Os96Y",
        "colab_type": "code",
        "outputId": "e872f988-f96f-4a8d-ee98-19eb4ea00767",
        "colab": {
          "base_uri": "https://localhost:8080/",
          "height": 34
        }
      },
      "source": [
        "%tensorflow_version 2.x"
      ],
      "execution_count": 0,
      "outputs": [
        {
          "output_type": "stream",
          "text": [
            "TensorFlow 2.x selected.\n"
          ],
          "name": "stdout"
        }
      ]
    },
    {
      "cell_type": "code",
      "metadata": {
        "id": "6JBtnReUe2EW",
        "colab_type": "code",
        "outputId": "1d19e656-e432-4496-b88d-4b317e184e4f",
        "colab": {
          "base_uri": "https://localhost:8080/",
          "height": 34
        }
      },
      "source": [
        "import tensorflow as tf\n",
        "import matplotlib.pyplot as plt\n",
        "import numpy as np\n",
        "\n",
        "from google.colab import drive\n",
        "drive.mount('/content/drive', force_remount=True)"
      ],
      "execution_count": 0,
      "outputs": [
        {
          "output_type": "stream",
          "text": [
            "Mounted at /content/drive\n"
          ],
          "name": "stdout"
        }
      ]
    },
    {
      "cell_type": "code",
      "metadata": {
        "id": "NODNv9asVOsJ",
        "colab_type": "code",
        "colab": {}
      },
      "source": [
        "# PARAMETERS\n",
        "PATH = \"/content/drive/My Drive/brain_ct/PATIENT\"\n",
        "RAW_PATH = PATH + \"/rawIMG\"\n",
        "IN_PATH = PATH + \"/inputIMG\"\n",
        "OUT_PATH = PATH + \"/outputIMG\"\n",
        "ATTEMPT_PATH = PATH + \"/attempts\"\n",
        "RESULT_PATH = \"/content/drive/My Drive/brain_ct/results\"\n",
        "GEN_PATH = \"/content/drive/My Drive/brain_ct/generatedScan\"\n",
        "SCAN_PATH = \"/content/drive/My Drive/brain_ct/scan_dataset\"\n",
        "ROOT = \"/IMG-0001-\" # format -> ROOT + INDEX -> IMG-0001-000X\n",
        "\n",
        "slices = 240\n",
        "epochs = 100"
      ],
      "execution_count": 0,
      "outputs": []
    },
    {
      "cell_type": "code",
      "metadata": {
        "id": "IEayxM2bfMIr",
        "colab_type": "code",
        "colab": {}
      },
      "source": [
        "from PIL import Image\n",
        "from PIL import ImageChops\n",
        "\n",
        "import os\n",
        "\n",
        "i = 1\n",
        "count = 0\n",
        "while i < (slices-1):\n",
        "  count += 1\n",
        "  # Make A & B filenames\n",
        "  INDEX = \"{:05n}\".format(i)\n",
        "  A_PATH = RAW_PATH + ROOT + INDEX\n",
        "\n",
        "  i += 2\n",
        "  INDEX = \"{:05n}\".format(i)\n",
        "  B_PATH = RAW_PATH + ROOT + INDEX\n",
        "  \n",
        "  i -= 1\n",
        "  OUT = Image.open(RAW_PATH + ROOT + \"{:05n}\".format(i) + \".jpg\")\n",
        "  OUT.save(OUT_PATH + \"/\" + \"{:05n}\".format(count) + \".jpg\")\n",
        "  print(\"Saved OUT at \" + OUT_PATH + \"/\" + \"{:05n}\".format(count) + \".jpg\")\n",
        "  \n",
        "  X_FILE = IN_PATH + \"/\" + \"{:05n}\".format(count)\n",
        "  \n",
        "  # Load A & B images\n",
        "  A = Image.open(A_PATH + \".jpg\")\n",
        "  B = Image.open(B_PATH + \".jpg\")\n",
        "  \n",
        "  # Generate A*B and save -> X\n",
        "  X = ImageChops.multiply(A,B)\n",
        "  X.save(X_FILE + \".jpg\", \"JPEG\")\n",
        "  print(\"Saved X at \" + X_FILE)\n",
        "  "
      ],
      "execution_count": 0,
      "outputs": []
    },
    {
      "cell_type": "code",
      "metadata": {
        "id": "Fgo6NcQCQXqg",
        "colab_type": "code",
        "outputId": "92e0901b-c34a-4053-853b-89c8e518b9b7",
        "colab": {
          "base_uri": "https://localhost:8080/",
          "height": 34
        }
      },
      "source": [
        "imgurls = !ls -1 \"{IN_PATH}\" # Save input filenames\n",
        "\n",
        "n = 100 # imgs it'll use\n",
        "train_n = round(n * 0.80) # Train/Test 0.8/0.2\n",
        "\n",
        "randurls = np.copy(imgurls)\n",
        "\n",
        "np.random.seed(1234)\n",
        "np.random.shuffle(randurls) # Input shuffle\n",
        "\n",
        "tr_urls = randurls[:train_n]\n",
        "ts_urls = randurls[train_n:n]\n",
        "\n",
        "print(n, len(tr_urls), len(ts_urls))"
      ],
      "execution_count": 0,
      "outputs": [
        {
          "output_type": "stream",
          "text": [
            "100 80 20\n"
          ],
          "name": "stdout"
        }
      ]
    },
    {
      "cell_type": "code",
      "metadata": {
        "id": "vgEb-7zYYSSX",
        "colab_type": "code",
        "outputId": "ff409827-52cc-45ef-c4c2-d011b035ee5c",
        "colab": {
          "base_uri": "https://localhost:8080/",
          "height": 562
        }
      },
      "source": [
        "IMG_WIDTH = 512\n",
        "IMG_HEIGHT = 512\n",
        "\n",
        "# Rescale images\n",
        "def resize(inimg, tgimg, height, width):\n",
        "  inimg = tf.image.resize(inimg, [height, width])\n",
        "  tgimg = tf.image.resize(tgimg, [height, width])\n",
        "  \n",
        "  return inimg, tgimg\n",
        "\n",
        "# Normalize images\n",
        "def normalize(inimg, tgimg):\n",
        "  inimg = (inimg / 128) - 1\n",
        "  tgimg = (tgimg / 128) - 1\n",
        "  \n",
        "  return inimg, tgimg\n",
        "\n",
        "def load_image(filename):\n",
        "  inimg = tf.cast(tf.image.decode_jpeg(tf.io.read_file(IN_PATH + \"/\" + filename)), tf.float32)[..., :3] # Float cast\n",
        "  tgimg = tf.cast(tf.image.decode_jpeg(tf.io.read_file(OUT_PATH + \"/\" + filename)), tf.float32)[..., :3] # Float cast\n",
        "  \n",
        "  inimg, tgimg = resize(inimg, tgimg, IMG_HEIGHT, IMG_WIDTH)\n",
        "  inimg, tgimg = normalize(inimg, tgimg)\n",
        "  \n",
        "  return inimg, tgimg\n",
        "\n",
        "plt.title(\"Input (A x B)\")\n",
        "plt.imshow((load_image(randurls[0])[0] + 1) / 2) #Input\n",
        "plt.show()\n",
        "plt.title(\"Target\")\n",
        "plt.imshow((load_image(randurls[0])[1] + 1) / 2) #Target"
      ],
      "execution_count": 0,
      "outputs": [
        {
          "output_type": "display_data",
          "data": {
            "image/png": "[encoded data removed]",
            "text/plain": [
              "<Figure size 432x288 with 1 Axes>"
            ]
          },
          "metadata": {
            "tags": []
          }
        },
        {
          "output_type": "execute_result",
          "data": {
            "text/plain": [
              "<matplotlib.image.AxesImage at 0x7f54b0292518>"
            ]
          },
          "metadata": {
            "tags": []
          },
          "execution_count": 5
        },
        {
          "output_type": "display_data",
          "data": {
            "image/png": "[encoded data removed]",
            "text/plain": [
              "<Figure size 432x288 with 1 Axes>"
            ]
          },
          "metadata": {
            "tags": []
          }
        }
      ]
    },
    {
      "cell_type": "code",
      "metadata": {
        "id": "iX6a1g7Cg-VB",
        "colab_type": "code",
        "outputId": "78a9a899-74a7-45c7-cb23-9e737093789f",
        "colab": {
          "base_uri": "https://localhost:8080/",
          "height": 71
        }
      },
      "source": [
        "# Dataset Load\n",
        "train_dataset = tf.data.Dataset.from_tensor_slices(tr_urls)\n",
        "train_dataset = train_dataset.map(load_image, num_parallel_calls=tf.data.experimental.AUTOTUNE) # filename -> img\n",
        "train_dataset = train_dataset.batch(1)\n",
        "\n",
        "test_dataset = tf.data.Dataset.from_tensor_slices(ts_urls)\n",
        "test_dataset = test_dataset.map(load_image, num_parallel_calls=tf.data.experimental.AUTOTUNE) # filename -> img\n",
        "test_dataset = test_dataset.batch(1)"
      ],
      "execution_count": 0,
      "outputs": [
        {
          "output_type": "stream",
          "text": [
            "WARNING:tensorflow:Entity <function load_image at 0x7f54b3133ae8> could not be transformed and will be executed as-is. Please report this to the AutoGraph team. When filing the bug, set the verbosity to 10 (on Linux, `export AUTOGRAPH_VERBOSITY=10`) and attach the full output. Cause: Bad argument number for Name: 3, expecting 4\n",
            "WARNING: Entity <function load_image at 0x7f54b3133ae8> could not be transformed and will be executed as-is. Please report this to the AutoGraph team. When filing the bug, set the verbosity to 10 (on Linux, `export AUTOGRAPH_VERBOSITY=10`) and attach the full output. Cause: Bad argument number for Name: 3, expecting 4\n"
          ],
          "name": "stdout"
        }
      ]
    },
    {
      "cell_type": "code",
      "metadata": {
        "id": "Mf__yOwphegA",
        "colab_type": "code",
        "outputId": "b5b5ca11-a1c2-4dd9-9189-9672b2935bb2",
        "colab": {
          "base_uri": "https://localhost:8080/",
          "height": 34
        }
      },
      "source": [
        "# ENCODER\n",
        "# C64-C128-C256-C512-C512-C512-C512-C512\n",
        "\n",
        "from tensorflow.keras import *\n",
        "from tensorflow.keras.layers import *\n",
        "\n",
        "def downsample(filters, apply_batchnorm=True):\n",
        "  \n",
        "  result = Sequential()\n",
        "  \n",
        "  initializer = tf.random_normal_initializer(0, 0.02) # mean 0 deviation 0.02\n",
        "  \n",
        "  # Convolutional layer\n",
        "  result.add(Conv2D(filters,\n",
        "                    kernel_size=4,\n",
        "                    strides=2, # Each layer info shrinks by 1 / strides\n",
        "                    padding=\"same\",\n",
        "                    kernel_initializer=initializer,\n",
        "                    use_bias=not apply_batchnorm)) # Only apply if not using BatchNorm\n",
        "  \n",
        "  if apply_batchnorm:\n",
        "    # BatchNorm layer\n",
        "    result.add(BatchNormalization())\n",
        "  \n",
        "  # Activation layer\n",
        "  result.add(LeakyReLU())\n",
        "  \n",
        "  return result\n",
        "\n",
        "downsample(64)"
      ],
      "execution_count": 0,
      "outputs": [
        {
          "output_type": "execute_result",
          "data": {
            "text/plain": [
              "<tensorflow.python.keras.engine.sequential.Sequential at 0x7f54b3634f60>"
            ]
          },
          "metadata": {
            "tags": []
          },
          "execution_count": 7
        }
      ]
    },
    {
      "cell_type": "code",
      "metadata": {
        "id": "4hzoR11Khg5J",
        "colab_type": "code",
        "outputId": "b4288b56-1bd7-4bcf-e0dd-9574a5305c1d",
        "colab": {
          "base_uri": "https://localhost:8080/",
          "height": 34
        }
      },
      "source": [
        "# DECODER\n",
        "# CD512-CD512-CD512-C512-C256-C128-C64\n",
        "\n",
        "def upsample(filters, apply_dropout=False):\n",
        "  \n",
        "  result = Sequential()\n",
        "  \n",
        "  initializer = tf.random_normal_initializer(0, 0.02) # mean 0 deviation 0.02\n",
        "  \n",
        "  # Convolutional layer\n",
        "  result.add(Conv2DTranspose(filters, #Conv2D inverse\n",
        "                             kernel_size=4,\n",
        "                             strides=2,\n",
        "                             padding=\"same\",\n",
        "                             kernel_initializer=initializer,\n",
        "                             use_bias=False))\n",
        "  \n",
        "  # BatchNorm layer\n",
        "  result.add(BatchNormalization())\n",
        "  \n",
        "  if apply_dropout:\n",
        "    # Dropout layer (disconnects random connections, regularized)\n",
        "    result.add(Dropout(0.5))\n",
        "  \n",
        "  # Activation layer\n",
        "  result.add(ReLU())\n",
        "  \n",
        "  return result\n",
        "\n",
        "upsample(64)"
      ],
      "execution_count": 0,
      "outputs": [
        {
          "output_type": "execute_result",
          "data": {
            "text/plain": [
              "<tensorflow.python.keras.engine.sequential.Sequential at 0x7f54b00c5f98>"
            ]
          },
          "metadata": {
            "tags": []
          },
          "execution_count": 8
        }
      ]
    },
    {
      "cell_type": "code",
      "metadata": {
        "id": "_1-bVr5AhkMf",
        "colab_type": "code",
        "outputId": "93126b22-d154-476a-8a58-14df68e9d360",
        "colab": {
          "base_uri": "https://localhost:8080/",
          "height": 34
        }
      },
      "source": [
        "def Generator():\n",
        "  \n",
        "  inputs = tf.keras.layers.Input(shape=[None, None, 3]) # Not specified dimensions, 3 channels\n",
        "  \n",
        "  # C64-C128-C256-C512-C512-C512-C512-C512\n",
        "  down_stack = [                        # (batch_size, width, height, filters)\n",
        "      downsample(64, apply_batchnorm=False), # (bs, 128, 128, 64)\n",
        "      downsample(128),                       # (bs, 64, 64, 128)\n",
        "      downsample(256),                       # (bs, 32, 32, 256)\n",
        "      downsample(512),                       # (bs, 16, 16, 512)\n",
        "      downsample(512),                       # (bs, 8, 8, 512)\n",
        "      downsample(512),                       # (bs, 4, 4, 512)\n",
        "      downsample(512),                       # (bs, 2, 2, 512)\n",
        "      downsample(512),                       # (bs, 1, 1, 512)\n",
        "  ]\n",
        "  \n",
        "  # CD512-CD512-CD512-C512-C256-C128-C64\n",
        "  up_stack = [\n",
        "      upsample(512, apply_dropout=True),     # (bs, 2, 2, 1024)\n",
        "      upsample(512, apply_dropout=True),     # (bs, 4, 4, 1024)\n",
        "      upsample(512, apply_dropout=True),     # (bs, 8, 8, 1024)\n",
        "      upsample(512),                         # (bs, 16, 16, 1024)\n",
        "      upsample(256),                         # (bs, 32, 32, 512)\n",
        "      upsample(128),                         # (bs, 64, 64, 256)\n",
        "      upsample(64),                          # (bs, 128, 128, 128)\n",
        "  ]\n",
        "  \n",
        "  initializer = tf.random_normal_initializer(0, 0.02)\n",
        "  \n",
        "  # Last layer = generated image\n",
        "  last = Conv2DTranspose(filters=3,\n",
        "                         kernel_size=4,\n",
        "                         strides=2,\n",
        "                         padding=\"same\",\n",
        "                         kernel_initializer=initializer,\n",
        "                         activation=\"tanh\" # de -1 a 1\n",
        "                         )\n",
        "  \n",
        "  x = inputs\n",
        "  \n",
        "  s = [] # Skip Connections list\n",
        "  \n",
        "  concat = Concatenate()\n",
        "  \n",
        "  # Connect layers\n",
        "  for down in down_stack:\n",
        "    x = down(x)\n",
        "    s.append(x)\n",
        "    \n",
        "  s = reversed(s[:-1])\n",
        "    \n",
        "  for up, skip in zip(up_stack, s):\n",
        "    \n",
        "    x = up(x)\n",
        "    x = concat([x, skip])\n",
        "    \n",
        "  last = last(x)\n",
        "  \n",
        "  return Model(inputs=inputs, outputs=last) # Builds model\n",
        "\n",
        "generator = Generator()\n",
        "generator"
      ],
      "execution_count": 0,
      "outputs": [
        {
          "output_type": "execute_result",
          "data": {
            "text/plain": [
              "<tensorflow.python.keras.engine.training.Model at 0x7f546045aef0>"
            ]
          },
          "metadata": {
            "tags": []
          },
          "execution_count": 9
        }
      ]
    },
    {
      "cell_type": "code",
      "metadata": {
        "id": "voyinKeLhqIv",
        "colab_type": "code",
        "outputId": "84e41d5f-ac9d-4dce-fc35-67e9bb9c98b1",
        "colab": {
          "base_uri": "https://localhost:8080/",
          "height": 34
        }
      },
      "source": [
        "# DISCRIMINATOR 70x70\n",
        "# C64-C128-C256-C512\n",
        "\n",
        "\n",
        "def Discriminator():\n",
        "  \n",
        "  ini = Input(shape=[None, None, 3], name=\"input_img\")\n",
        "  gen = Input(shape=[None, None, 3], name=\"gener_img\")\n",
        "  \n",
        "  con = concatenate([ini, gen])\n",
        "  \n",
        "  initializer = tf.random_normal_initializer(0, 0.2)\n",
        "  \n",
        "  down1 = downsample(64, apply_batchnorm=False)(con)\n",
        "  down2 = downsample(128)(down1)\n",
        "  down3 = downsample(256)(down2)\n",
        "  down4 = downsample(512)(down3)\n",
        "  \n",
        "  last = tf.keras.layers.Conv2D(filters=1, # Pixel by pixel\n",
        "                                kernel_size=4,\n",
        "                                strides=1,\n",
        "                                kernel_initializer=initializer,\n",
        "                                padding=\"same\")(down4)\n",
        "  \n",
        "  return tf.keras.Model(inputs=[ini, gen], outputs=last)\n",
        "\n",
        "discriminator = Discriminator()\n",
        "discriminator"
      ],
      "execution_count": 0,
      "outputs": [
        {
          "output_type": "execute_result",
          "data": {
            "text/plain": [
              "<tensorflow.python.keras.engine.training.Model at 0x7f545ff53eb8>"
            ]
          },
          "metadata": {
            "tags": []
          },
          "execution_count": 10
        }
      ]
    },
    {
      "cell_type": "code",
      "metadata": {
        "id": "CtM20P5XjHeq",
        "colab_type": "code",
        "colab": {}
      },
      "source": [
        "generator_optimizer = tf.keras.optimizers.Adam(2e-4, beta_1=0.5)\n",
        "discriminator_optimizer = tf.keras.optimizers.Adam(2e-4, beta_1=0.5)"
      ],
      "execution_count": 0,
      "outputs": []
    },
    {
      "cell_type": "code",
      "metadata": {
        "id": "VhYlEEmihsew",
        "colab_type": "code",
        "colab": {}
      },
      "source": [
        "loss_object = tf.keras.losses.BinaryCrossentropy(from_logits=True) # Apply logit function"
      ],
      "execution_count": 0,
      "outputs": []
    },
    {
      "cell_type": "code",
      "metadata": {
        "id": "lSKGoD_8huLZ",
        "colab_type": "code",
        "colab": {}
      },
      "source": [
        "def discriminator_loss(disc_real_output, disc_generated_output):\n",
        "  \n",
        "  real_loss = loss_object(tf.ones_like(disc_real_output), disc_real_output)\n",
        "  \n",
        "  generated_loss = loss_object(tf.zeros_like(disc_generated_output), disc_generated_output)\n",
        "  \n",
        "  total_disc_loss = real_loss + generated_loss\n",
        "  \n",
        "  return total_disc_loss"
      ],
      "execution_count": 0,
      "outputs": []
    },
    {
      "cell_type": "code",
      "metadata": {
        "id": "jJRS93mghvgx",
        "colab_type": "code",
        "colab": {}
      },
      "source": [
        "LAMBDA = 100\n",
        "\n",
        "def generator_loss(disc_generated_output, gen_output, target):\n",
        "  \n",
        "  #gan_loss = adversary error\n",
        "  gan_loss = loss_object(tf.ones_like(disc_generated_output), disc_generated_output)\n",
        "  \n",
        "  #mean absolute error, between generated and target\n",
        "  l1_loss = tf.reduce_mean(tf.abs(target - gen_output))\n",
        "  \n",
        "  total_gen_loss = gan_loss + (LAMBDA * l1_loss) #mas peso a l1_loss que al adversario\n",
        "  return total_gen_loss"
      ],
      "execution_count": 0,
      "outputs": []
    },
    {
      "cell_type": "code",
      "metadata": {
        "id": "PimYfNT0hx7H",
        "colab_type": "code",
        "colab": {}
      },
      "source": [
        "def generate_images(model, test_input, tar, save_filename=False, display_imgs=True):\n",
        "  \n",
        "  prediction = model(test_input, training=True)\n",
        "  \n",
        "  if save_filename:\n",
        "    tf.keras.preprocessing.image.save_img(ATTEMPT_PATH + \"/\" + save_filename + \".jpg\", prediction[0,...])\n",
        "    \n",
        "  plt.figure(figsize=(10,10))\n",
        "  \n",
        "  display_list = [test_input[0], tar[0], prediction[0]]\n",
        "  title = [\"Input image\", \"Ground Truth\", \"Predicted image\"]\n",
        "  \n",
        "  if  display_imgs:\n",
        "    for i in range(3):\n",
        "      plt.subplot(1, 3, i+1)\n",
        "      plt.title(title[i])\n",
        "      plt.imshow(display_list[i] * 0.5 + 0.5)\n",
        "      plt.axis(\"off\")\n",
        "      \n",
        "  plt.show()"
      ],
      "execution_count": 0,
      "outputs": []
    },
    {
      "cell_type": "code",
      "metadata": {
        "id": "HT5kU-1th8bA",
        "colab_type": "code",
        "colab": {}
      },
      "source": [
        "@tf.function()\n",
        "def train_step(input_image, target):\n",
        "  \n",
        "  # Gradients & Backpropagation\n",
        "  with tf.GradientTape() as gen_tape, tf.GradientTape() as discr_tape:\n",
        "  \n",
        "    output_image = generator(input_image, training=True)\n",
        "\n",
        "    output_gen_discr = discriminator([output_image, input_image], training=True)\n",
        "\n",
        "    output_trg_discr = discriminator([target, input_image], training=True)\n",
        "\n",
        "    discr_loss = discriminator_loss(output_trg_discr, output_gen_discr)\n",
        "\n",
        "    gen_loss = generator_loss(output_gen_discr, output_image, target)\n",
        "    \n",
        "    \n",
        "    generator_grads = gen_tape.gradient(gen_loss, generator.trainable_variables)\n",
        "    \n",
        "    discriminator_grads = discr_tape.gradient(discr_loss, discriminator.trainable_variables)\n",
        "    \n",
        "    generator_optimizer.apply_gradients(zip(generator_grads, generator.trainable_variables))\n",
        "    \n",
        "    discriminator_optimizer.apply_gradients(zip(discriminator_grads, discriminator.trainable_variables))"
      ],
      "execution_count": 0,
      "outputs": []
    },
    {
      "cell_type": "code",
      "metadata": {
        "id": "T0ofvRHch_AX",
        "colab_type": "code",
        "colab": {}
      },
      "source": [
        "from IPython.display import clear_output\n",
        "\n",
        "def train(dataset, epochs):\n",
        "  for epoch in range(epochs):\n",
        "    \n",
        "    imgi = 0\n",
        "    for input_image, target in dataset:\n",
        "      print(\"epoch \" + str(epoch) + \" - train: \" + str(imgi) + \"/\" + str(len(tr_urls)))\n",
        "      imgi+=1\n",
        "      train_step(input_image, target)\n",
        "      clear_output(wait=True)\n",
        "    \n",
        "    imgi = 0\n",
        "    for inp, tar in test_dataset.take(5):\n",
        "      generate_images(generator, inp, tar, str(imgi) + \"_\" + str(epoch), display_imgs=False)\n",
        "      imgi += 1"
      ],
      "execution_count": 0,
      "outputs": []
    },
    {
      "cell_type": "code",
      "metadata": {
        "id": "7l_f3vs4dco-",
        "colab_type": "code",
        "colab": {}
      },
      "source": [
        "def predict(model, index, input_img, save_filename=True):\n",
        "  \n",
        "  prediction = model(input_img, training=False)\n",
        "  \n",
        "  if save_filename:\n",
        "    tf.keras.preprocessing.image.save_img(GEN_PATH + \"/\" + str(index) + \".jpg\", prediction[0,...])"
      ],
      "execution_count": 0,
      "outputs": []
    },
    {
      "cell_type": "code",
      "metadata": {
        "id": "JcTChmUBiEd0",
        "colab_type": "code",
        "outputId": "75271484-755d-492c-9360-33fba37b6704",
        "colab": {
          "base_uri": "https://localhost:8080/",
          "height": 102
        }
      },
      "source": [
        "train(train_dataset, epochs)"
      ],
      "execution_count": 0,
      "outputs": [
        {
          "output_type": "display_data",
          "data": {
            "text/plain": [
              "<Figure size 720x720 with 0 Axes>"
            ]
          },
          "metadata": {
            "tags": []
          }
        },
        {
          "output_type": "display_data",
          "data": {
            "text/plain": [
              "<Figure size 720x720 with 0 Axes>"
            ]
          },
          "metadata": {
            "tags": []
          }
        },
        {
          "output_type": "display_data",
          "data": {
            "text/plain": [
              "<Figure size 720x720 with 0 Axes>"
            ]
          },
          "metadata": {
            "tags": []
          }
        },
        {
          "output_type": "display_data",
          "data": {
            "text/plain": [
              "<Figure size 720x720 with 0 Axes>"
            ]
          },
          "metadata": {
            "tags": []
          }
        },
        {
          "output_type": "display_data",
          "data": {
            "text/plain": [
              "<Figure size 720x720 with 0 Axes>"
            ]
          },
          "metadata": {
            "tags": []
          }
        }
      ]
    },
    {
      "cell_type": "code",
      "metadata": {
        "id": "2hzzMlGjxCVt",
        "colab_type": "code",
        "colab": {}
      },
      "source": [
        "def loadScanImage(filename):\n",
        "  inimg = tf.cast(tf.image.decode_jpeg(tf.io.read_file(SCAN_PATH + \"/\" + filename)), tf.float32)[..., :3] # Float cast\n",
        "  tgimg = tf.cast(tf.image.decode_jpeg(tf.io.read_file(OUT_PATH + \"/\" + filename)), tf.float32)[..., :3] # Float cast\n",
        "  \n",
        "  inimg, tgimg = resize(inimg, tgimg, IMG_HEIGHT, IMG_WIDTH)\n",
        "  inimg, tgimg = normalize(inimg, tgimg)\n",
        "  \n",
        "  return inimg"
      ],
      "execution_count": 0,
      "outputs": []
    },
    {
      "cell_type": "code",
      "metadata": {
        "id": "qTmDc8Pyt2M_",
        "colab_type": "code",
        "outputId": "7b0a663e-04b7-4e69-8369-f6132dfcc4ef",
        "colab": {
          "base_uri": "https://localhost:8080/",
          "height": 71
        }
      },
      "source": [
        "i = 1\n",
        "count = 0\n",
        "\n",
        "while i < slices:\n",
        "  # Make A & B filenames\n",
        "  INDEX = \"{:05n}\".format(i)\n",
        "  A_PATH = RAW_PATH + ROOT + INDEX\n",
        "  \n",
        "  i += 1\n",
        "  INDEX = \"{:05n}\".format(i)\n",
        "  B_PATH = RAW_PATH + ROOT + INDEX\n",
        "  \n",
        "  X_FILE = SCAN_PATH + \"/\" + \"{:05n}\".format(count)\n",
        "  count += 1\n",
        "  \n",
        "  # Load A & B images\n",
        "  A = Image.open(A_PATH + \".jpg\")\n",
        "  B = Image.open(B_PATH + \".jpg\")\n",
        "  \n",
        "  # Generate A*B and save -> X\n",
        "  X = ImageChops.multiply(A,B)\n",
        "  X.save(X_FILE + \".jpg\", \"JPEG\")\n",
        "\n",
        "scanurls = !ls -1 \"{SCAN_PATH}\"\n",
        "scan_dataset = tf.data.Dataset.from_tensor_slices(scanurls)\n",
        "scan_dataset = scan_dataset.map(loadScanImage, num_parallel_calls=tf.data.experimental.AUTOTUNE) # filename -> img\n",
        "scan_dataset = scan_dataset.batch(1)\n",
        "\n",
        "imgi = 1\n",
        "for inp in scan_dataset:\n",
        "  prediction = predict(generator, imgi, inp)\n",
        "  imgi += 1"
      ],
      "execution_count": 0,
      "outputs": [
        {
          "output_type": "stream",
          "text": [
            "WARNING:tensorflow:Entity <function loadScanImage at 0x7f546005fa60> could not be transformed and will be executed as-is. Please report this to the AutoGraph team. When filing the bug, set the verbosity to 10 (on Linux, `export AUTOGRAPH_VERBOSITY=10`) and attach the full output. Cause: Bad argument number for Name: 3, expecting 4\n",
            "WARNING: Entity <function loadScanImage at 0x7f546005fa60> could not be transformed and will be executed as-is. Please report this to the AutoGraph team. When filing the bug, set the verbosity to 10 (on Linux, `export AUTOGRAPH_VERBOSITY=10`) and attach the full output. Cause: Bad argument number for Name: 3, expecting 4\n"
          ],
          "name": "stdout"
        }
      ]
    },
    {
      "cell_type": "code",
      "metadata": {
        "id": "cYwmPeY_3Aba",
        "colab_type": "code",
        "colab": {
          "base_uri": "https://localhost:8080/",
          "height": 229
        },
        "outputId": "4db98cc5-8266-4141-8f11-d81125a28042"
      },
      "source": [
        "i = 1\n",
        "count = 1\n",
        "\n",
        "while i < slices:\n",
        "  INDEX = \"{:05n}\".format(i)\n",
        "  KNOWN_PATH = RAW_PATH + ROOT + INDEX\n",
        "  PREDICTED_PATH = GEN_PATH + \"/\" + str(i)\n",
        "  \n",
        "  KNOWN = Image.open(KNOWN_PATH + \".jpg\")\n",
        "  PREDICTED = Image.open(PREDICTED_PATH + \".jpg\")\n",
        "  \n",
        "  KNOWN.save(RESULT_PATH + \"/\" + ROOT + \"{:05n}\".format(str(count)) + \".jpg\", \"JPEG\")\n",
        "  PREDICTED.save(RESULT_PATH + \"/\" + ROOT + \"{:05n}\".format(str(count+1)) + \".jpg\", \"JPEG\")\n",
        "  \n",
        "  i += 1\n",
        "  count += 2"
      ],
      "execution_count": 1,
      "outputs": [
        {
          "output_type": "error",
          "ename": "NameError",
          "evalue": "ignored",
          "traceback": [
            "\u001b[0;31m---------------------------------------------------------------------------\u001b[0m",
            "\u001b[0;31mNameError\u001b[0m                                 Traceback (most recent call last)",
            "\u001b[0;32m<ipython-input-1-da4430384ce3>\u001b[0m in \u001b[0;36m<module>\u001b[0;34m()\u001b[0m\n\u001b[1;32m      4\u001b[0m \u001b[0mRESULT_PATH\u001b[0m \u001b[0;34m=\u001b[0m \u001b[0;34m\"/content/drive/My Drive/brain_ct/results\"\u001b[0m\u001b[0;34m\u001b[0m\u001b[0;34m\u001b[0m\u001b[0m\n\u001b[1;32m      5\u001b[0m \u001b[0;34m\u001b[0m\u001b[0m\n\u001b[0;32m----> 6\u001b[0;31m \u001b[0;32mwhile\u001b[0m \u001b[0mi\u001b[0m \u001b[0;34m<\u001b[0m \u001b[0mslices\u001b[0m\u001b[0;34m:\u001b[0m\u001b[0;34m\u001b[0m\u001b[0;34m\u001b[0m\u001b[0m\n\u001b[0m\u001b[1;32m      7\u001b[0m   \u001b[0mINDEX\u001b[0m \u001b[0;34m=\u001b[0m \u001b[0;34m\"{:05n}\"\u001b[0m\u001b[0;34m.\u001b[0m\u001b[0mformat\u001b[0m\u001b[0;34m(\u001b[0m\u001b[0mi\u001b[0m\u001b[0;34m)\u001b[0m\u001b[0;34m\u001b[0m\u001b[0;34m\u001b[0m\u001b[0m\n\u001b[1;32m      8\u001b[0m   \u001b[0mKNOWN_PATH\u001b[0m \u001b[0;34m=\u001b[0m \u001b[0mRAW_PATH\u001b[0m \u001b[0;34m+\u001b[0m \u001b[0mROOT\u001b[0m \u001b[0;34m+\u001b[0m \u001b[0mINDEX\u001b[0m\u001b[0;34m\u001b[0m\u001b[0;34m\u001b[0m\u001b[0m\n",
            "\u001b[0;31mNameError\u001b[0m: name 'slices' is not defined"
          ]
        }
      ]
    }
  ]
}